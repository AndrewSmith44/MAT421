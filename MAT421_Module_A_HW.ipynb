{
  "nbformat": 4,
  "nbformat_minor": 0,
  "metadata": {
    "colab": {
      "provenance": [],
      "authorship_tag": "ABX9TyPEloLpOlBGFLJSnNS1p/Vr",
      "include_colab_link": true
    },
    "kernelspec": {
      "name": "python3",
      "display_name": "Python 3"
    },
    "language_info": {
      "name": "python"
    }
  },
  "cells": [
    {
      "cell_type": "markdown",
      "metadata": {
        "id": "view-in-github",
        "colab_type": "text"
      },
      "source": [
        "<a href=\"https://colab.research.google.com/github/AndrewSmith44/MAT421/blob/main/MAT421_Module_A_HW.ipynb\" target=\"_parent\"><img src=\"https://colab.research.google.com/assets/colab-badge.svg\" alt=\"Open In Colab\"/></a>"
      ]
    },
    {
      "cell_type": "markdown",
      "source": [
        "Homework A: Base-N, Binary, Floating Point Numbers, and Round-off Errors\n",
        "\n",
        "1. Base-N and Binary Representation\n",
        "\n",
        "In this section, we will explore how numbers are represented in different number systems, focusing on Base-N (binary, hexadecimal, etc.) and their conversions.\n",
        "\n",
        "1.1 Base-N Decomposition\n",
        "\n",
        "Example 1: Decimal to Base-N Decomposition\n",
        "\n",
        "We begin by demonstrating how a number can be decomposed into a sum of powers of a base.\n",
        "\n",
        "For example, let's take the number 77 in Base 10."
      ],
      "metadata": {
        "id": "uR7mdIB_0fdH"
      }
    },
    {
      "cell_type": "code",
      "source": [
        "decimal_number = 77\n",
        "base = 10\n",
        "decomposed = []\n",
        "\n",
        "for i in range(base):\n",
        "    power_of_base = base ** i\n",
        "    if decimal_number >= power_of_base:\n",
        "        coefficient = decimal_number // power_of_base\n",
        "        decomposed.append(f\"{coefficient} * {base}^{i}\")\n",
        "\n",
        "print(f\"Decomposition of {decimal_number} in base {base}: {decomposed}\")\n"
      ],
      "metadata": {
        "colab": {
          "base_uri": "https://localhost:8080/"
        },
        "id": "vadfIWKH4lIF",
        "outputId": "632d5bc7-f15f-462c-dc74-1eae6d4ca729"
      },
      "execution_count": 1,
      "outputs": [
        {
          "output_type": "stream",
          "name": "stdout",
          "text": [
            "Decomposition of 77 in base 10: ['77 * 10^0', '7 * 10^1']\n"
          ]
        }
      ]
    },
    {
      "cell_type": "markdown",
      "source": [
        "This code will show how 77 can be represented in base 10.\n",
        "\n",
        "1.2 Binary to Decimal Conversion\n",
        "\n",
        "Let’s demonstrate how to convert a binary number to decimal. Consider the binary number 1011 (Base 2)."
      ],
      "metadata": {
        "id": "lySwlhPH40ec"
      }
    },
    {
      "cell_type": "code",
      "source": [
        "binary_number = \"1011\"\n",
        "decimal_value = int(binary_number, 2)\n",
        "print(f\"Binary {binary_number} is Decimal {decimal_value}\")"
      ],
      "metadata": {
        "colab": {
          "base_uri": "https://localhost:8080/"
        },
        "id": "xYHa5aJR45Qw",
        "outputId": "548bbe58-f3d8-4c18-dbed-7a534cc01969"
      },
      "execution_count": null,
      "outputs": [
        {
          "output_type": "stream",
          "name": "stdout",
          "text": [
            "Binary 1011 is Decimal 11\n"
          ]
        }
      ]
    },
    {
      "cell_type": "markdown",
      "source": [
        "1.3 Binary Operations\n",
        "\n",
        "We can also perform arithmetic operations in binary.\n",
        "\n",
        "Example 2: Binary Addition\n",
        "\n",
        "Let’s add two binary numbers: 0111 and 0110."
      ],
      "metadata": {
        "id": "NhgvzV-E5ANu"
      }
    },
    {
      "cell_type": "code",
      "source": [
        "binary_a = \"0111\"\n",
        "binary_b = \"0110\"\n",
        "sum_binary = bin(int(binary_a, 2) + int(binary_b, 2))[2:]\n",
        "\n",
        "print(f\"Binary addition of {binary_a} + {binary_b} = {sum_binary}\")"
      ],
      "metadata": {
        "colab": {
          "base_uri": "https://localhost:8080/"
        },
        "id": "4RRWNgIz5OZA",
        "outputId": "f8e2b343-dddd-44e8-a9ce-4ae046e621b3"
      },
      "execution_count": null,
      "outputs": [
        {
          "output_type": "stream",
          "name": "stdout",
          "text": [
            "Binary addition of 0111 + 0110 = 1101\n"
          ]
        }
      ]
    },
    {
      "cell_type": "markdown",
      "source": [
        "1.4 Binary Multiplication\n",
        "\n",
        "Let's demonstrate binary multiplication by multiplying 6 (0110 in binary) by 5 (0101 in binary)."
      ],
      "metadata": {
        "id": "xeYzIY-R5RKi"
      }
    },
    {
      "cell_type": "code",
      "source": [
        "binary_a = \"0110\"\n",
        "binary_b = \"0101\"\n",
        "product_binary = bin(int(binary_a, 2) * int(binary_b, 2))[2:]\n",
        "\n",
        "print(f\"Binary multiplication of {binary_a} * {binary_b} = {product_binary}\")"
      ],
      "metadata": {
        "colab": {
          "base_uri": "https://localhost:8080/"
        },
        "id": "8eEPCdZ05SNR",
        "outputId": "311f5437-5eaf-4ca1-e71f-d2416f3d586d"
      },
      "execution_count": null,
      "outputs": [
        {
          "output_type": "stream",
          "name": "stdout",
          "text": [
            "Binary multiplication of 0110 * 0101 = 11110\n"
          ]
        }
      ]
    },
    {
      "cell_type": "markdown",
      "source": [
        "2. Floating Point Numbers\n",
        "\n",
        "Floating point numbers are a crucial representation in computing because they allow for the storage of real numbers. This section explores how numbers are represented in memory using the IEEE 754 standard.\n",
        "\n",
        "2.1 IEEE 754 Standard"
      ],
      "metadata": {
        "id": "WOniRjqD5YkV"
      }
    },
    {
      "cell_type": "code",
      "source": [
        "#IEEE754 conversion\n",
        "s = 1\n",
        "e = 0b10000000010\n",
        "f = 0b1000000000000000000000000000000000000000000000000000\n",
        "\n",
        "value = (-1)**s * (2**(e - 1023)) * (1 + f / (2**52))\n",
        "print(f\"The IEEE 754 number converted to decimal: {value}\")"
      ],
      "metadata": {
        "colab": {
          "base_uri": "https://localhost:8080/"
        },
        "id": "hRtv6gGv5pZJ",
        "outputId": "9331e152-2e81-4a79-bb96-1cf863ee58aa"
      },
      "execution_count": null,
      "outputs": [
        {
          "output_type": "stream",
          "name": "stdout",
          "text": [
            "The IEEE 754 number converted to decimal: -12.0\n"
          ]
        }
      ]
    },
    {
      "cell_type": "markdown",
      "source": [
        "2.2 Float Representation in Python\n",
        "\n",
        "Python has a built-in representation for floating-point numbers. We can use sys.float_info to explore this further."
      ],
      "metadata": {
        "id": "ACeF96v05waV"
      }
    },
    {
      "cell_type": "code",
      "source": [
        "import sys\n",
        "print(sys.float_info)"
      ],
      "metadata": {
        "colab": {
          "base_uri": "https://localhost:8080/"
        },
        "id": "5A7s0EX252GZ",
        "outputId": "0a4b5986-b95f-4f88-917a-b7fd2c13a7c8"
      },
      "execution_count": null,
      "outputs": [
        {
          "output_type": "stream",
          "name": "stdout",
          "text": [
            "sys.float_info(max=1.7976931348623157e+308, max_exp=1024, max_10_exp=308, min=2.2250738585072014e-308, min_exp=-1021, min_10_exp=-307, dig=15, mant_dig=53, epsilon=2.220446049250313e-16, radix=2, rounds=1)\n"
          ]
        }
      ]
    },
    {
      "cell_type": "markdown",
      "source": [
        "This will show the largest, smallest, and other properties of floating-point numbers in Python.\n",
        "\n",
        "3. Round-off Errors\n",
        "\n",
        "Round-off errors occur because floating point numbers cannot always be precisely represented in computer memory. Here, we will demonstrate how these errors can affect calculations.\n",
        "\n",
        "3.1 Simple Arithmetic Errors\n",
        "\n",
        "Let’s calculate a simple operation with floating-point numbers that leads to an error."
      ],
      "metadata": {
        "id": "0qErw8q955vO"
      }
    },
    {
      "cell_type": "code",
      "source": [
        "sum_result = 0.2 + 0.4 + 0.6\n",
        "print(f\"Sum without rounding: {sum_result}\")"
      ],
      "metadata": {
        "colab": {
          "base_uri": "https://localhost:8080/"
        },
        "id": "VArDHF9f5-KT",
        "outputId": "d378eec0-b385-40ba-f362-d6fcbcd15021"
      },
      "execution_count": null,
      "outputs": [
        {
          "output_type": "stream",
          "name": "stdout",
          "text": [
            "Sum without rounding: 1.2000000000000002\n"
          ]
        }
      ]
    },
    {
      "cell_type": "markdown",
      "source": [
        "This will show that Python’s floating-point representation causes small deviations from the expected result.\n",
        "\n",
        "3.2 Mitigating Round-Off Errors with round()\n",
        "\n",
        "The round() function can help minimize round-off errors."
      ],
      "metadata": {
        "id": "1QZWCFzq5_9c"
      }
    },
    {
      "cell_type": "code",
      "source": [
        "rounded_sum = round(0.2 + 0.4 + 0.6, 1)\n",
        "print(f\"Sum with rounding: {rounded_sum}\")"
      ],
      "metadata": {
        "colab": {
          "base_uri": "https://localhost:8080/"
        },
        "id": "zynBRGDb6CKB",
        "outputId": "1a4d1b7f-2d33-4837-e537-c1f03979a5f7"
      },
      "execution_count": null,
      "outputs": [
        {
          "output_type": "stream",
          "name": "stdout",
          "text": [
            "Sum with rounding: 1.2\n"
          ]
        }
      ]
    },
    {
      "cell_type": "markdown",
      "source": [
        "3.3 Accumulation of Round-Off Errors\n",
        "\n",
        "Over multiple operations, round-off errors can accumulate, leading to larger discrepancies."
      ],
      "metadata": {
        "id": "9YO7Swp66ERO"
      }
    },
    {
      "cell_type": "code",
      "source": [
        "def add_n_sub(i):\n",
        "    result = 1\n",
        "    for _ in range(i):\n",
        "        result += 1/3\n",
        "    for _ in range(i):\n",
        "        result -= 1/3\n",
        "    return result\n",
        "\n",
        "print(add_n_sub(10000))"
      ],
      "metadata": {
        "colab": {
          "base_uri": "https://localhost:8080/"
        },
        "id": "4GKIGjuE6Jdb",
        "outputId": "87deede4-1099-4095-98f2-f883a95e4426"
      },
      "execution_count": null,
      "outputs": [
        {
          "output_type": "stream",
          "name": "stdout",
          "text": [
            "1.0000000000001166\n"
          ]
        }
      ]
    },
    {
      "cell_type": "markdown",
      "source": [
        "This code will illustrate how errors accumulate over repeated operations."
      ],
      "metadata": {
        "id": "qkpZpas16NmV"
      }
    },
    {
      "cell_type": "code",
      "source": [],
      "metadata": {
        "id": "06hrWnyi6QYQ"
      },
      "execution_count": null,
      "outputs": []
    }
  ]
}