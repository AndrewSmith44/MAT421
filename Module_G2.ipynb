{
  "nbformat": 4,
  "nbformat_minor": 0,
  "metadata": {
    "colab": {
      "provenance": [],
      "authorship_tag": "ABX9TyMvy9gXRVY+f7Sf5OnTA7hM",
      "include_colab_link": true
    },
    "kernelspec": {
      "name": "python3",
      "display_name": "Python 3"
    },
    "language_info": {
      "name": "python"
    }
  },
  "cells": [
    {
      "cell_type": "markdown",
      "metadata": {
        "id": "view-in-github",
        "colab_type": "text"
      },
      "source": [
        "<a href=\"https://colab.research.google.com/github/AndrewSmith44/MAT421/blob/main/Module_G2.ipynb\" target=\"_parent\"><img src=\"https://colab.research.google.com/assets/colab-badge.svg\" alt=\"Open In Colab\"/></a>"
      ]
    },
    {
      "cell_type": "markdown",
      "source": [
        "1. Simpson’s Rule\n",
        "\n",
        "Simpson’s Rule is a numerical integration technique that provides an improved approximation of definite integrals compared to the Left and Right Riemann Sums or the Trapezoidal Rule. It works by approximating the function with a series of parabolic segments rather than straight lines.\n",
        "\n",
        "The formula for Simpson’s Rule is:\n",
        "\n",
        "$$\n",
        "\\int_a^b f(x)\\,dx \\approx \\frac{h}{3} \\left( f(a) + 4f(a+h) + 2f(a+2h) + 4f(a+3h) + \\dots + f(b) \\right)\n",
        "$$\n",
        "\n",
        "where\n",
        "ℎ = (𝑏 − 𝑎)/𝑛\n",
        ", and\n",
        "𝑛 must be even. The function evaluations alternate between coefficients of 4 and 2, except for the first and last terms, which are multiplied by 1.\n",
        "\n",
        "\n",
        "Example Implementation:"
      ],
      "metadata": {
        "id": "IJUdXZPui7vR"
      }
    },
    {
      "cell_type": "code",
      "execution_count": 1,
      "metadata": {
        "colab": {
          "base_uri": "https://localhost:8080/"
        },
        "id": "pNMHvyrSiSBQ",
        "outputId": "8886dfa1-c608-4878-9133-d68e55ea96ae"
      },
      "outputs": [
        {
          "output_type": "stream",
          "name": "stdout",
          "text": [
            "Simpson's Rule Approximation: 1.7182818285545043\n"
          ]
        }
      ],
      "source": [
        "import numpy as np\n",
        "\n",
        "def simpsons_rule(f, a, b, n):\n",
        "    \"\"\"Approximate the integral of f(x) from a to b using Simpson's Rule with n subintervals.\"\"\"\n",
        "    if n % 2 == 1:\n",
        "        raise ValueError(\"n must be even for Simpson's Rule\")\n",
        "\n",
        "    h = (b - a) / n\n",
        "    x = np.linspace(a, b, n + 1)\n",
        "    fx = f(x)\n",
        "\n",
        "    integral_approx = (h / 3) * (fx[0] + 4 * np.sum(fx[1:n:2]) + 2 * np.sum(fx[2:n-1:2]) + fx[n])\n",
        "    return integral_approx\n",
        "\n",
        "f = lambda x: np.exp(x)\n",
        "\n",
        "a, b = 0, 1\n",
        "n = 100\n",
        "\n",
        "approx_integral = simpsons_rule(f, a, b, n)\n",
        "print(\"Simpson's Rule Approximation:\", approx_integral)\n"
      ]
    },
    {
      "cell_type": "markdown",
      "source": [
        "Conclusion\n",
        "\n",
        "Simpson’s Rule is a powerful numerical integration technique that provides a more accurate approximation of definite integrals compared to Riemann sums and the Trapezoidal Rule. By using quadratic interpolation, it achieves higher accuracy with fewer subintervals, making it efficient for smooth functions. However, it requires an even number of subintervals and may be less effective for highly oscillatory functions."
      ],
      "metadata": {
        "id": "qJtV9etSjpaG"
      }
    }
  ]
}