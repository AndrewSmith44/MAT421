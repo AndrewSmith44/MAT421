{
  "nbformat": 4,
  "nbformat_minor": 0,
  "metadata": {
    "colab": {
      "provenance": [],
      "authorship_tag": "ABX9TyNAVBBjkLmEzSeikaO0NFv0",
      "include_colab_link": true
    },
    "kernelspec": {
      "name": "python3",
      "display_name": "Python 3"
    },
    "language_info": {
      "name": "python"
    }
  },
  "cells": [
    {
      "cell_type": "markdown",
      "metadata": {
        "id": "view-in-github",
        "colab_type": "text"
      },
      "source": [
        "<a href=\"https://colab.research.google.com/github/AndrewSmith44/MAT421/blob/main/Homework_D.ipynb\" target=\"_parent\"><img src=\"https://colab.research.google.com/assets/colab-badge.svg\" alt=\"Open In Colab\"/></a>"
      ]
    },
    {
      "cell_type": "markdown",
      "source": [
        "1. Linear Algebra Concepts\n",
        "\n",
        "Linear algebra is fundamental in numerical computing, machine learning, and data science. This section will explore key concepts such as linear space, orthogonality, and eigenvalues.\n",
        "\n",
        "1.1 Linear Space\n",
        "\n",
        "A vector space (or linear space) is a set of vectors that can be added together and multiplied by scalars while satisfying certain axioms (associativity, commutativity, existence of an additive identity, etc.).\n",
        "\n",
        "Definition:\n",
        "A vector space over a field\n",
        "𝐹\n",
        "(such as\n",
        "𝑅\n",
        "or\n",
        "𝐶) is a set\n",
        "𝑉 equipped with two operations:\n",
        "\n",
        "Vector addition:\n",
        "𝑢\n",
        "+\n",
        "𝑣\n",
        "Scalar multiplication:\n",
        "𝑐𝑢, where\n",
        "𝑐\n",
        "∈\n",
        "𝐹\n",
        "\n",
        "The operations must satisfy the following properties:\n",
        "\n",
        "Closure under addition and scalar multiplication\n",
        "\n",
        "Associativity and commutativity of vector addition\n",
        "\n",
        "Existence of a zero vector and additive inverses\n",
        "\n",
        "Distributive and associative properties of scalar multiplication\n",
        "\n",
        "Example Code: Checking if a Set of Vectors Forms a Linear Space"
      ],
      "metadata": {
        "id": "DXc2CGjROnia"
      }
    },
    {
      "cell_type": "code",
      "source": [
        "import numpy as np\n",
        "\n",
        "v1 = np.array([1, 2])\n",
        "v2 = np.array([3, 4])\n",
        "\n",
        "v_sum = v1 + v2\n",
        "print(\"Vector Addition:\", v_sum)\n",
        "\n",
        "scalar = 2\n",
        "v_scaled = scalar * v1\n",
        "print(\"Scalar Multiplication:\", v_scaled)\n"
      ],
      "metadata": {
        "colab": {
          "base_uri": "https://localhost:8080/"
        },
        "id": "iPRRvk-SPNHp",
        "outputId": "8d2a9571-0674-4c07-bb9a-1497d943bbc5"
      },
      "execution_count": 17,
      "outputs": [
        {
          "output_type": "stream",
          "name": "stdout",
          "text": [
            "Vector Addition: [4 6]\n",
            "Scalar Multiplication: [2 4]\n"
          ]
        }
      ]
    },
    {
      "cell_type": "markdown",
      "source": [
        "1.2 Orthogonality\n",
        "\n",
        "Two vectors\n",
        "𝑢\n",
        "u and\n",
        "𝑣\n",
        "v are orthogonal if their dot product is zero:\n",
        "\n",
        "𝑢⋅𝑣 = 0\n",
        "\n",
        "Example Code: Checking Orthogonality"
      ],
      "metadata": {
        "id": "T4-G7cT9PURA"
      }
    },
    {
      "cell_type": "code",
      "source": [
        "u = np.array([1, -1])\n",
        "v = np.array([1, 1])\n",
        "\n",
        "dot_product = np.dot(u, v)\n",
        "\n",
        "if dot_product == 0:\n",
        "    print(\"The vectors are orthogonal.\")\n",
        "else:\n",
        "    print(\"The vectors are not orthogonal.\")\n"
      ],
      "metadata": {
        "colab": {
          "base_uri": "https://localhost:8080/"
        },
        "id": "KdPYhoKLPeZI",
        "outputId": "ac20ac57-5d1a-45c0-83bc-aa00584bdfb8"
      },
      "execution_count": 18,
      "outputs": [
        {
          "output_type": "stream",
          "name": "stdout",
          "text": [
            "The vectors are orthogonal.\n"
          ]
        }
      ]
    },
    {
      "cell_type": "markdown",
      "source": [
        "1.3 Eigenvalues and Eigenvectors\n",
        "\n",
        "For a square matrix\n",
        "𝐴, an eigenvector\n",
        "𝑣\n",
        " and its corresponding eigenvalue\n",
        "𝜆 satisfy the equation:\n",
        "\n",
        "Av = λv\n",
        "\n",
        "Example Code: Finding Eigenvalues and Eigenvectors"
      ],
      "metadata": {
        "id": "D9ZNWilEPm8i"
      }
    },
    {
      "cell_type": "code",
      "source": [
        "A = np.array([[4, -2],\n",
        "              [1, 1]])\n",
        "\n",
        "eigenvalues, eigenvectors = np.linalg.eig(A)\n",
        "\n",
        "print(\"Eigenvalues:\", eigenvalues)\n",
        "print(\"Eigenvectors:\\n\", eigenvectors)\n"
      ],
      "metadata": {
        "colab": {
          "base_uri": "https://localhost:8080/"
        },
        "id": "G-VU1uqyPx2u",
        "outputId": "4b5b80f0-1b76-42c7-d0a2-2c06d2847689"
      },
      "execution_count": 19,
      "outputs": [
        {
          "output_type": "stream",
          "name": "stdout",
          "text": [
            "Eigenvalues: [3. 2.]\n",
            "Eigenvectors:\n",
            " [[0.89442719 0.70710678]\n",
            " [0.4472136  0.70710678]]\n"
          ]
        }
      ]
    },
    {
      "cell_type": "markdown",
      "source": [
        "2. Linear Regression\n",
        "\n",
        "Linear regression is a method for modeling the relationship between a dependent variable 𝑦 and one or more independent variables\n",
        "𝑋. The equation for simple linear regression is:\n",
        "\n",
        "𝑦 =\n",
        "𝛽\n",
        "0\n",
        "+\n",
        "𝛽1𝑥\n",
        "+\n",
        "𝜖\n",
        "\n",
        "where:\n",
        "\n",
        "𝛽\n",
        "0\n",
        "is the intercept,\n",
        "𝛽\n",
        "1\n",
        "is the slope,\n",
        "𝜖\n",
        "is the error term.\n",
        "For multiple linear regression:\n",
        "\n",
        "𝑦\n",
        "=\n",
        "𝑋𝛽\n",
        "+\n",
        "𝜖\n",
        "\n",
        "𝑋 is the design matrix containing independent variables,\n",
        "𝛽 is the vector of regression coefficients.\n",
        "\n",
        "2.1 Implementing Linear Regression with NumPy\n",
        "\n",
        "We can use the normal equation to compute the regression coefficients:\n",
        "\n",
        "𝛽\n",
        "=\n",
        "(\n",
        "𝑋\n",
        "𝑇\n",
        "𝑋\n",
        ")\n",
        "−\n",
        "1\n",
        "𝑋\n",
        "𝑇\n",
        "𝑦\n",
        "\n",
        "\n",
        "Example Code: Linear Regression using NumPy\n"
      ],
      "metadata": {
        "id": "u_t8VfxtQTcQ"
      }
    },
    {
      "cell_type": "code",
      "source": [
        "import numpy as np\n",
        "\n",
        "X = np.array([[1, 1], [1, 2], [1, 3], [1, 4]])\n",
        "y = np.array([1, 2, 2.5, 4])\n",
        "\n",
        "\n",
        "beta = np.linalg.inv(X.T @ X) @ X.T @ y\n",
        "print(\"Regression Coefficients:\", beta)\n"
      ],
      "metadata": {
        "colab": {
          "base_uri": "https://localhost:8080/"
        },
        "id": "wpfdq3oBRhB8",
        "outputId": "94e2520a-b3b2-4c73-ec2b-8a8c7c5360dc"
      },
      "execution_count": 20,
      "outputs": [
        {
          "output_type": "stream",
          "name": "stdout",
          "text": [
            "Regression Coefficients: [0.   0.95]\n"
          ]
        }
      ]
    },
    {
      "cell_type": "markdown",
      "source": [
        "2.2 Linear Regression using Scikit-Learn\n",
        "\n",
        "Instead of manually computing coefficients, we can use scikit-learn's built-in LinearRegression class.\n",
        "\n",
        "Example Code: Using Scikit-Learn"
      ],
      "metadata": {
        "id": "1egoII7PRrgI"
      }
    },
    {
      "cell_type": "code",
      "source": [
        "from sklearn.linear_model import LinearRegression\n",
        "\n",
        "X_values = np.array([1, 2, 3, 4]).reshape(-1, 1)\n",
        "y_values = np.array([1, 2, 2.5, 4])\n",
        "\n",
        "model = LinearRegression()\n",
        "model.fit(X_values, y_values)\n",
        "\n",
        "print(\"Intercept:\", model.intercept_)\n",
        "print(\"Slope:\", model.coef_[0])\n"
      ],
      "metadata": {
        "colab": {
          "base_uri": "https://localhost:8080/"
        },
        "id": "aqqvXJuiRtRL",
        "outputId": "81039ff1-f288-49b6-f764-0bf5002d9690"
      },
      "execution_count": 21,
      "outputs": [
        {
          "output_type": "stream",
          "name": "stdout",
          "text": [
            "Intercept: 8.881784197001252e-16\n",
            "Slope: 0.9499999999999997\n"
          ]
        }
      ]
    },
    {
      "cell_type": "markdown",
      "source": [
        "2.3 Visualizing the Linear Regression Line\n",
        "\n",
        "To better understand regression, we can plot the data points and the regression line.\n",
        "\n",
        "Example Code: Plotting the Regression Line"
      ],
      "metadata": {
        "id": "lPBJlo-aRxmZ"
      }
    },
    {
      "cell_type": "code",
      "source": [
        "import matplotlib.pyplot as plt\n",
        "\n",
        "y_pred = model.predict(X_values)\n",
        "\n",
        "plt.scatter(X_values, y_values, color='red', label='Data points')\n",
        "\n",
        "plt.plot(X_values, y_pred, color='blue', label='Regression line')\n",
        "\n",
        "plt.xlabel('X')\n",
        "plt.ylabel('y')\n",
        "plt.legend()\n",
        "plt.show()\n"
      ],
      "metadata": {
        "colab": {
          "base_uri": "https://localhost:8080/",
          "height": 449
        },
        "id": "KCM-MaYFR05V",
        "outputId": "92330248-d9b5-497e-d211-3006545b8d79"
      },
      "execution_count": 22,
      "outputs": [
        {
          "output_type": "display_data",
          "data": {
            "text/plain": [
              "<Figure size 640x480 with 1 Axes>"
            ],
            "image/png": "[encoded data removed]"
          },
          "metadata": {}
        }
      ]
    }
  ]
}