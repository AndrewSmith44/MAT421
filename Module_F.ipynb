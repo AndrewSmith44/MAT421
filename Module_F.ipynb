{
  "nbformat": 4,
  "nbformat_minor": 0,
  "metadata": {
    "colab": {
      "provenance": [],
      "authorship_tag": "ABX9TyO4RHHnC/ABFjL7hx/Q9OQF",
      "include_colab_link": true
    },
    "kernelspec": {
      "name": "python3",
      "display_name": "Python 3"
    },
    "language_info": {
      "name": "python"
    }
  },
  "cells": [
    {
      "cell_type": "markdown",
      "metadata": {
        "id": "view-in-github",
        "colab_type": "text"
      },
      "source": [
        "<a href=\"https://colab.research.google.com/github/AndrewSmith44/MAT421/blob/main/Module_F.ipynb\" target=\"_parent\"><img src=\"https://colab.research.google.com/assets/colab-badge.svg\" alt=\"Open In Colab\"/></a>"
      ]
    },
    {
      "cell_type": "markdown",
      "source": [
        "1. Numerical Differentiation Problem Statement\n",
        "\n",
        "Numerical differentiation involves approximating the derivative of a function using discrete values rather than analytical differentiation. This is useful when dealing with real-world data, where functions may not have a closed-form derivative.\n",
        "\n",
        "The derivative of a function is defined as:\n",
        "\n",
        "$$\n",
        "f'(x) = \\lim_{h \\to 0} \\frac{f(x+h) - f(x)}{h}\n",
        "$$\n",
        "\n",
        "\n",
        "However, in numerical computations, we approximate this using finite values of\n",
        "ℎ\n",
        "h, leading to various finite difference methods.\n",
        "\n",
        "2. Finite Difference Approximating Derivatives\n",
        "\n",
        "Finite difference methods estimate derivatives using nearby points. The three main types are:\n",
        "\n",
        "2.1 Forward Difference Approximation\n",
        "\n",
        "The forward difference formula estimates the first derivative as:\n",
        "\n",
        "$$\n",
        "f'(x) \\approx \\frac{f(x+h) - f(x)}{h}\n",
        "$$  \n",
        "\n",
        "This method is simple but introduces an error of order\n",
        "𝑂\n",
        "(\n",
        "ℎ\n",
        ").\n",
        "\n",
        "Example Implementation:"
      ],
      "metadata": {
        "id": "TV3ieYZ80hu6"
      }
    },
    {
      "cell_type": "code",
      "execution_count": 1,
      "metadata": {
        "colab": {
          "base_uri": "https://localhost:8080/"
        },
        "id": "qdGAQl6Bxs8l",
        "outputId": "2f5c876b-5133-4bd5-ef6f-5cf4611fdaeb"
      },
      "outputs": [
        {
          "output_type": "stream",
          "name": "stdout",
          "text": [
            "Forward Difference Approximation: 4.000010000027032\n"
          ]
        }
      ],
      "source": [
        "import numpy as np\n",
        "\n",
        "def forward_difference(f, x, h=1e-5):\n",
        "    return (f(x + h) - f(x)) / h\n",
        "\n",
        "f = lambda x: x**2\n",
        "x0 = 2\n",
        "\n",
        "approx_derivative = forward_difference(f, x0)\n",
        "print(\"Forward Difference Approximation:\", approx_derivative)"
      ]
    },
    {
      "cell_type": "markdown",
      "source": [
        "2.2 Backward Difference Approximation\n",
        "\n",
        "The backward difference formula is given by:\n",
        "\n",
        "$$\n",
        "f'(x) \\approx \\frac{f(x) - f(x-h)}{h}\n",
        "$$\n",
        "\n",
        "Like the forward difference, it has an error of\n",
        " O(h), but it uses previous points instead of future points.\n",
        "\n",
        "Example Implementation:"
      ],
      "metadata": {
        "id": "wEZR1oPF2B4c"
      }
    },
    {
      "cell_type": "code",
      "source": [
        "def backward_difference(f, x, h=1e-5):\n",
        "    return (f(x) - f(x - h)) / h\n",
        "\n",
        "approx_derivative = backward_difference(f, x0)\n",
        "print(\"Backward Difference Approximation:\", approx_derivative)"
      ],
      "metadata": {
        "colab": {
          "base_uri": "https://localhost:8080/"
        },
        "id": "owHQXlXV2Gp9",
        "outputId": "166cd1ce-0273-4b22-b8ce-5254ff688060"
      },
      "execution_count": 2,
      "outputs": [
        {
          "output_type": "stream",
          "name": "stdout",
          "text": [
            "Backward Difference Approximation: 3.999990000025377\n"
          ]
        }
      ]
    },
    {
      "cell_type": "markdown",
      "source": [
        "2.3 Central Difference Approximation\n",
        "\n",
        "The central difference formula provides a more accurate estimate:\n",
        "\n",
        "$$\n",
        "f'(x) \\approx \\frac{f(x+h) - f(x-h)}{2h}\n",
        "$$\n",
        "\n",
        "This method has an error of\n",
        "O(h^2), making it more precise than the forward and backward methods.\n",
        "\n",
        "Example Implementation:"
      ],
      "metadata": {
        "id": "j9zM94du2JzE"
      }
    },
    {
      "cell_type": "code",
      "source": [
        "def central_difference(f, x, h=1e-5):\n",
        "    return (f(x + h) - f(x - h)) / (2 * h)\n",
        "\n",
        "approx_derivative = central_difference(f, x0)\n",
        "print(\"Central Difference Approximation:\", approx_derivative)"
      ],
      "metadata": {
        "colab": {
          "base_uri": "https://localhost:8080/"
        },
        "id": "sWBgnpno2MHE",
        "outputId": "f90fc14e-c3ea-4511-eb98-de764098210e"
      },
      "execution_count": 3,
      "outputs": [
        {
          "output_type": "stream",
          "name": "stdout",
          "text": [
            "Central Difference Approximation: 4.000000000026205\n"
          ]
        }
      ]
    },
    {
      "cell_type": "markdown",
      "source": [
        "3. Approximating Higher-Order Derivatives\n",
        "\n",
        "Higher-order derivatives can also be approximated using finite differences.\n",
        "\n",
        "3.1 Second Derivative Approximation\n",
        "\n",
        "The second derivative is given by:\n",
        "\n",
        "$$\n",
        "f''(x) \\approx \\frac{f(x+h) - 2f(x) + f(x-h)}{h^2}\n",
        "$$\n",
        "\n",
        "\n",
        "This formula is commonly used in numerical methods such as solving differential equations.\n",
        "\n",
        "Example Implementation:"
      ],
      "metadata": {
        "id": "SSs0sY-h2PbS"
      }
    },
    {
      "cell_type": "code",
      "source": [
        "def second_derivative(f, x, h=1e-5):\n",
        "    return (f(x + h) - 2*f(x) + f(x - h)) / h**2\n",
        "\n",
        "approx_second_derivative = second_derivative(f, x0)\n",
        "print(\"Second Derivative Approximation:\", approx_second_derivative)"
      ],
      "metadata": {
        "colab": {
          "base_uri": "https://localhost:8080/"
        },
        "id": "QxfAcz5e2TJM",
        "outputId": "4d7ea5eb-9897-486f-9c70-9fcd8c7bba43"
      },
      "execution_count": 4,
      "outputs": [
        {
          "output_type": "stream",
          "name": "stdout",
          "text": [
            "Second Derivative Approximation: 2.0000001654807416\n"
          ]
        }
      ]
    },
    {
      "cell_type": "markdown",
      "source": [
        "3.2 Higher-Order Derivative Example\n",
        "\n",
        "For higher-order derivatives, we can extend the finite difference formulas accordingly. For example, the third derivative can be approximated as:\n",
        "\n",
        "$$\n",
        "f^{(n)}(x) \\approx \\sum_{k=0}^{m} c_k f(x + k h)\n",
        "$$\n",
        "\n",
        "\n",
        "Example Implementation:"
      ],
      "metadata": {
        "id": "r_wW33__35Ak"
      }
    },
    {
      "cell_type": "code",
      "source": [
        "def third_derivative(f, x, h=1e-5):\n",
        "    return (f(x + 2*h) - 2*f(x + h) + 2*f(x - h) - f(x - 2*h)) / (2 * h**3)\n",
        "\n",
        "approx_third_derivative = third_derivative(f, x0)\n",
        "print(f\"Third derivative approximation at x = {x0}: {approx_third_derivative}\")"
      ],
      "metadata": {
        "colab": {
          "base_uri": "https://localhost:8080/"
        },
        "id": "apjCTCsz38fp",
        "outputId": "729b3419-4a85-4dcd-8572-c5153f3227ab"
      },
      "execution_count": 5,
      "outputs": [
        {
          "output_type": "stream",
          "name": "stdout",
          "text": [
            "Third derivative approximation at x = 2: -0.4440892098500625\n"
          ]
        }
      ]
    },
    {
      "cell_type": "markdown",
      "source": [
        "Conclusion\n",
        "\n",
        "Numerical differentiation is a powerful tool in computational mathematics, allowing for the approximation of derivatives when analytical differentiation is impractical. Finite difference methods offer a trade-off between simplicity and accuracy, with central differences providing higher precision. Higher-order derivatives can also be approximated using extended finite difference formulas."
      ],
      "metadata": {
        "id": "r_u_dqP_2XRe"
      }
    }
  ]
}