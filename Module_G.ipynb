{
  "nbformat": 4,
  "nbformat_minor": 0,
  "metadata": {
    "colab": {
      "provenance": [],
      "authorship_tag": "ABX9TyPZkxksdgGy7VJbWca7m4wD",
      "include_colab_link": true
    },
    "kernelspec": {
      "name": "python3",
      "display_name": "Python 3"
    },
    "language_info": {
      "name": "python"
    }
  },
  "cells": [
    {
      "cell_type": "markdown",
      "metadata": {
        "id": "view-in-github",
        "colab_type": "text"
      },
      "source": [
        "<a href=\"https://colab.research.google.com/github/AndrewSmith44/MAT421/blob/main/Module_G.ipynb\" target=\"_parent\"><img src=\"https://colab.research.google.com/assets/colab-badge.svg\" alt=\"Open In Colab\"/></a>"
      ]
    },
    {
      "cell_type": "markdown",
      "source": [
        "1. Numerical Integration Problem Statement\n",
        "\n",
        "Numerical integration is a method used to approximate the integral of a function when an analytical solution is difficult or impossible to obtain. This is particularly useful for real-world applications where functions are defined by discrete data points rather than continuous expressions.\n",
        "\n",
        "The integral of a function\n",
        "𝑓\n",
        "(\n",
        "𝑥\n",
        ")\n",
        " over an interval\n",
        "[\n",
        "𝑎\n",
        ",\n",
        "𝑏\n",
        "]\n",
        " is given by:\n",
        "$$\n",
        "I = \\int_a^b f(x) \\,dx\n",
        "$$\n",
        "Since exact integration is not always feasible, numerical methods such as Riemann sums and the trapezoidal rule provide practical approximations.\n",
        "\n",
        "2. Riemann’s Integral\n",
        "\n",
        "The Riemann sum approximates an integral by dividing the interval\n",
        "[\n",
        "𝑎\n",
        ",\n",
        "𝑏\n",
        "]\n",
        "into small subintervals and summing the areas of rectangles under the curve.\n",
        "\n",
        "2.1 Left Riemann Sum\n",
        "\n",
        "The left Riemann sum uses the left endpoints of subintervals:\n",
        "\n",
        "$$\n",
        "I \\approx \\sum_{i=0}^{n-1} f(x_i) \\Delta x\n",
        "$$\n",
        "\n",
        "where Δ𝑥=𝑏−𝑎/𝑛\n",
        "  and 𝑥𝑖= 𝑎+𝑖Δ𝑥\n",
        "\n",
        "Example Implementation:"
      ],
      "metadata": {
        "id": "zJ0BNnTx4SD-"
      }
    },
    {
      "cell_type": "code",
      "execution_count": 1,
      "metadata": {
        "colab": {
          "base_uri": "https://localhost:8080/"
        },
        "id": "KipCXg8q2l3k",
        "outputId": "71bdc9dc-9e4b-4548-a256-43dbe5edb584"
      },
      "outputs": [
        {
          "output_type": "stream",
          "name": "stdout",
          "text": [
            "Left Riemann Sum Approximation: 2.6268000000000002\n"
          ]
        }
      ],
      "source": [
        "import numpy as np\n",
        "\n",
        "def left_riemann_sum(f, a, b, n):\n",
        "    dx = (b - a) / n\n",
        "    x = np.linspace(a, b - dx, n)\n",
        "    return np.sum(f(x) * dx)\n",
        "\n",
        "f = lambda x: x**2\n",
        "a, b, n = 0, 2, 100\n",
        "\n",
        "approx_integral = left_riemann_sum(f, a, b, n)\n",
        "print(\"Left Riemann Sum Approximation:\", approx_integral)\n"
      ]
    },
    {
      "cell_type": "markdown",
      "source": [
        "2.2 Right Riemann Sum\n",
        "\n",
        "The right Riemann sum uses the right endpoints:\n",
        "\n",
        "$$\n",
        "I \\approx \\sum_{i=1}^{n} f(x_i) \\Delta x\n",
        "$$\n",
        "\n",
        "where 𝑥𝑖=𝑎+𝑖Δ𝑥.\n",
        "\n",
        "Example Implementation:"
      ],
      "metadata": {
        "id": "cHOWS__d5wqz"
      }
    },
    {
      "cell_type": "code",
      "source": [
        "def right_riemann_sum(f, a, b, n):\n",
        "    dx = (b - a) / n\n",
        "    x = np.linspace(a + dx, b, n)\n",
        "    return np.sum(f(x) * dx)\n",
        "\n",
        "approx_integral = right_riemann_sum(f, a, b, n)\n",
        "print(\"Right Riemann Sum Approximation:\", approx_integral)"
      ],
      "metadata": {
        "colab": {
          "base_uri": "https://localhost:8080/"
        },
        "id": "h_P7PY-R6Dc3",
        "outputId": "1ce747e3-2ced-44d0-ba7f-cd18f44bf7e9"
      },
      "execution_count": 2,
      "outputs": [
        {
          "output_type": "stream",
          "name": "stdout",
          "text": [
            "Right Riemann Sum Approximation: 2.7068000000000003\n"
          ]
        }
      ]
    },
    {
      "cell_type": "markdown",
      "source": [
        "2.3 Midpoint Riemann Sum\n",
        "\n",
        "The midpoint Riemann sum improves accuracy by using midpoints of subintervals:\n",
        "\n",
        "$$\n",
        "I \\approx \\sum_{i=0}^{n-1} f\\left( \\frac{x_i + x_{i+1}}{2} \\right) \\Delta x\n",
        "$$\n",
        "\n",
        "Example Implementation:"
      ],
      "metadata": {
        "id": "1ntMVits6G9B"
      }
    },
    {
      "cell_type": "code",
      "source": [
        "def midpoint_riemann_sum(f, a, b, n):\n",
        "    dx = (b - a) / n\n",
        "    x = np.linspace(a + dx/2, b - dx/2, n)\n",
        "    return np.sum(f(x) * dx)\n",
        "\n",
        "approx_integral = midpoint_riemann_sum(f, a, b, n)\n",
        "print(\"Midpoint Riemann Sum Approximation:\", approx_integral)"
      ],
      "metadata": {
        "colab": {
          "base_uri": "https://localhost:8080/"
        },
        "id": "VbBx5u936Raq",
        "outputId": "8c7e4c34-5993-40f6-b499-0cea2a8ccbeb"
      },
      "execution_count": 3,
      "outputs": [
        {
          "output_type": "stream",
          "name": "stdout",
          "text": [
            "Midpoint Riemann Sum Approximation: 2.6666000000000007\n"
          ]
        }
      ]
    },
    {
      "cell_type": "markdown",
      "source": [
        "3. Trapezoid Rule\n",
        "\n",
        "The trapezoidal rule improves upon Riemann sums by approximating the integral using trapezoids rather than rectangles:\n",
        "\n",
        "$$\n",
        "I \\approx \\frac{\\Delta x}{2} \\left[ f(a) + 2\\sum_{i=1}^{n-1} f(x_i) + f(b) \\right]\n",
        "$$\n",
        "\n",
        "This method provides better accuracy compared to basic Riemann sums.\n",
        "\n",
        "Example Implementation:"
      ],
      "metadata": {
        "id": "H7b_Anld6TdO"
      }
    },
    {
      "cell_type": "code",
      "source": [
        "def trapezoidal_rule(f, a, b, n):\n",
        "    dx = (b - a) / n\n",
        "    x = np.linspace(a, b, n+1)\n",
        "    y = f(x)\n",
        "    return (dx/2) * (y[0] + 2*np.sum(y[1:-1]) + y[-1])\n",
        "\n",
        "approx_integral = trapezoidal_rule(f, a, b, n)\n",
        "print(\"Trapezoidal Rule Approximation:\", approx_integral)"
      ],
      "metadata": {
        "colab": {
          "base_uri": "https://localhost:8080/"
        },
        "id": "qcOzGbF16YX2",
        "outputId": "f1bcb96a-3cca-4707-c4e8-1f5d813cd77b"
      },
      "execution_count": 4,
      "outputs": [
        {
          "output_type": "stream",
          "name": "stdout",
          "text": [
            "Trapezoidal Rule Approximation: 2.6668000000000003\n"
          ]
        }
      ]
    },
    {
      "cell_type": "markdown",
      "source": [
        "Conclusion\n",
        "\n",
        "Numerical integration provides practical methods for approximating definite integrals when exact solutions are infeasible. Riemann sums offer simple yet useful approximations, while the trapezoidal rule enhances accuracy by leveraging the shape of the function. These methods are fundamental in computational mathematics and various applied fields.\n",
        "\n"
      ],
      "metadata": {
        "id": "QRwE9_M06lAm"
      }
    }
  ]
}